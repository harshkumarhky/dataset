{
 "cells": [
  {
   "cell_type": "code",
   "execution_count": 4,
   "id": "e20d4cc2-9bff-4941-9932-f09524a29dd8",
   "metadata": {},
   "outputs": [
    {
     "name": "stdout",
     "output_type": "stream",
     "text": [
      "Feature: sepal length (cm)\n",
      "  F-statistic: 119.2645\n",
      "  p-value: 1.6697e-31\n",
      "\n",
      "Feature: sepal width (cm)\n",
      "  F-statistic: 49.1600\n",
      "  p-value: 4.4920e-17\n",
      "\n",
      "Feature: petal length (cm)\n",
      "  F-statistic: 1180.1612\n",
      "  p-value: 2.8568e-91\n",
      "\n",
      "Feature: petal width (cm)\n",
      "  F-statistic: 960.0071\n",
      "  p-value: 4.1694e-85\n",
      "\n"
     ]
    }
   ],
   "source": [
    "import numpy as np\n",
    "import pandas as pd\n",
    "from scipy import stats\n",
    "from sklearn.datasets import load_iris\n",
    "\n",
    "def one_way_anova_iris():\n",
    "  \n",
    "    iris = load_iris()\n",
    "  4  data = pd.DataFrame(iris.data, columns=iris.feature_names)\n",
    "    data['species'] = iris.target  \n",
    "    \n",
    "    data['species'] = data['species'].map({\n",
    "        0: 'setosa',\n",
    "        1: 'versicolor',\n",
    "        2: 'virginica'  \n",
    "    })\n",
    "    results = {}\n",
    "    for feature in iris.feature_names:\n",
    "        groups = [data[feature][data['species'] == species] for species in data['species'].unique()]\n",
    "        F_statistic, p_value = stats.f_oneway(*groups)\n",
    "\n",
    "        results[feature] = {\"F-statistic\": F_statistic, \"p-value\": p_value}\n",
    "    \n",
    "    return results\n",
    "\n",
    "if __name__ == \"__main__\":\n",
    "    results = one_way_anova_iris()\n",
    "    for feature, stats in results.items():\n",
    "        print(f\"Feature: {feature}\")\n",
    "        print(f\"  F-statistic: {stats['F-statistic']:.4f}\")\n",
    "        print(f\"  p-value: {stats['p-value']:.4e}\")\n",
    "        print()"
   ]
  }
 ],
 "metadata": {
  "kernelspec": {
   "display_name": "Python 3 (ipykernel)",
   "language": "python",
   "name": "python3"
  },
  "language_info": {
   "codemirror_mode": {
    "name": "ipython",
    "version": 3
   },
   "file_extension": ".py",
   "mimetype": "text/x-python",
   "name": "python",
   "nbconvert_exporter": "python",
   "pygments_lexer": "ipython3",
   "version": "3.12.7"
  }
 },
 "nbformat": 4,
 "nbformat_minor": 5
}
