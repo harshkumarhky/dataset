{
 "cells": [
  {
   "cell_type": "code",
   "execution_count": 1,
   "id": "7c7e4486-de28-4f52-8605-ea886d7aadfa",
   "metadata": {},
   "outputs": [],
   "source": [
    "import pandas as pd\n",
    "import numpy as np\n",
    "from sklearn.preprocessing import MinMaxScaler,StandardScaler \n",
    "import io\n",
    "import matplotlib.pyplot as plt"
   ]
  },
  {
   "cell_type": "code",
   "execution_count": 3,
   "id": "e62bbc2a-d89b-4fca-9936-9b1f3540e5b6",
   "metadata": {},
   "outputs": [],
   "source": [
    "df = pd.read_csv('Boston_Housing_Data.csv')"
   ]
  },
  {
   "cell_type": "code",
   "execution_count": 4,
   "id": "96aa3fe5-ec89-45b9-939d-f612b266a6f3",
   "metadata": {},
   "outputs": [],
   "source": [
    "x= df.drop('MEDV',axis=1)\n",
    "y =df['MEDV']"
   ]
  },
  {
   "cell_type": "code",
   "execution_count": 15,
   "id": "7ecbc80a-aeff-4b8a-93f3-5c6adfa2d978",
   "metadata": {},
   "outputs": [],
   "source": [
    "min_max_scaler=MinMaxScaler()\n",
    "x_min_max=min_max_scaler.fit_transform(x)"
   ]
  },
  {
   "cell_type": "code",
   "execution_count": 11,
   "id": "c9fca119-3dc0-45d7-aa98-4446964ad801",
   "metadata": {},
   "outputs": [],
   "source": [
    "standard_scaler = StandardScaler()\n",
    "x_standardized = standard_scaler.fit_transform(x)"
   ]
  },
  {
   "cell_type": "code",
   "execution_count": 21,
   "id": "b344e577-dc2c-43ff-8cc4-c27ebc624a74",
   "metadata": {},
   "outputs": [
    {
     "name": "stdout",
     "output_type": "stream",
     "text": [
      "min-max Scaled Data:\n",
      "          CRIM    ZN     INDUS  CHAS       NOX        RM       AGE       DIS  \\\n",
      "0    0.000000  0.18  0.067815   0.0  0.314815  0.577505  0.641607  0.269203   \n",
      "1    0.000236  0.00  0.242302   0.0  0.172840  0.547998  0.782698  0.348962   \n",
      "2    0.000236  0.00  0.242302   0.0  0.172840  0.694386  0.599382  0.348962   \n",
      "3    0.000293  0.00  0.063050   0.0  0.150206  0.658555  0.441813  0.448545   \n",
      "4    0.000705  0.00  0.063050   0.0  0.150206  0.687105  0.528321  0.448545   \n",
      "..        ...   ...       ...   ...       ...       ...       ...       ...   \n",
      "501  0.000633  0.00  0.420455   0.0  0.386831  0.580954  0.681771  0.122671   \n",
      "502  0.000438  0.00  0.420455   0.0  0.386831  0.490324  0.760041  0.105293   \n",
      "503  0.000612  0.00  0.420455   0.0  0.386831  0.654340  0.907312  0.094381   \n",
      "504  0.001161  0.00  0.420455   0.0  0.386831  0.619467  0.889804  0.114514   \n",
      "505  0.000462  0.00  0.420455   0.0  0.386831  0.473079       NaN  0.125072   \n",
      "\n",
      "          RAD       TAX   PTRATIO         B     LSTAT  \n",
      "0    0.000000  0.208015  0.287234  1.000000  0.089680  \n",
      "1    0.043478  0.104962  0.553191  1.000000  0.204470  \n",
      "2    0.043478  0.104962  0.553191  0.989737  0.063466  \n",
      "3    0.086957  0.066794  0.648936  0.994276  0.033389  \n",
      "4    0.086957  0.066794  0.648936  1.000000       NaN  \n",
      "..        ...       ...       ...       ...       ...  \n",
      "501  0.000000  0.164122  0.893617  0.987619       NaN  \n",
      "502  0.000000  0.164122  0.893617  1.000000  0.202815  \n",
      "503  0.000000  0.164122  0.893617  1.000000  0.107892  \n",
      "504  0.000000  0.164122  0.893617  0.991301  0.131071  \n",
      "505  0.000000  0.164122  0.893617  1.000000  0.169702  \n",
      "\n",
      "[506 rows x 13 columns]\n",
      "\n",
      "Standardized Data:\n",
      "          CRIM        ZN     INDUS      CHAS       NOX        RM       AGE  \\\n",
      "0   -0.413898  0.290525 -1.284840 -0.274265 -0.144217  0.413672 -0.118643   \n",
      "1   -0.411488 -0.479864 -0.587798 -0.274265 -0.740262  0.194274  0.371156   \n",
      "2   -0.411491 -0.479864 -0.587798 -0.274265 -0.740262  1.282714 -0.265225   \n",
      "3   -0.410908 -0.479864 -1.303877 -0.274265 -0.835284  1.016303 -0.812226   \n",
      "4   -0.406697 -0.479864 -1.303877 -0.274265 -0.835284  1.228577 -0.511911   \n",
      "..        ...       ...       ...       ...       ...       ...       ...   \n",
      "501 -0.407434 -0.479864  0.123887 -0.274265  0.158124  0.439316  0.020789   \n",
      "502 -0.409427 -0.479864  0.123887 -0.274265  0.158124 -0.234548  0.292502   \n",
      "503 -0.407648 -0.479864  0.123887 -0.274265  0.158124  0.984960  0.803751   \n",
      "504 -0.402043 -0.479864  0.123887 -0.274265  0.158124  0.725672  0.742973   \n",
      "505 -0.409181 -0.479864  0.123887 -0.274265  0.158124 -0.362767       NaN   \n",
      "\n",
      "          DIS       RAD       TAX   PTRATIO         B     LSTAT  \n",
      "0    0.140214 -0.982843 -0.666608 -1.459000  0.441052 -1.082105  \n",
      "1    0.557160 -0.867883 -0.987329 -0.303094  0.441052 -0.500165  \n",
      "2    0.557160 -0.867883 -0.987329 -0.303094  0.396427 -1.215000  \n",
      "3    1.077737 -0.752922 -1.106115  0.113032  0.416163 -1.367479  \n",
      "4    1.077737 -0.752922 -1.106115  0.113032  0.441052       NaN  \n",
      "..        ...       ...       ...       ...       ...       ...  \n",
      "501 -0.625796 -0.982843 -0.803212  1.176466  0.387217       NaN  \n",
      "502 -0.716639 -0.982843 -0.803212  1.176466  0.441052 -0.508558  \n",
      "503 -0.773684 -0.982843 -0.803212  1.176466  0.441052 -0.989778  \n",
      "504 -0.668437 -0.982843 -0.803212  1.176466  0.403225 -0.872271  \n",
      "505 -0.613246 -0.982843 -0.803212  1.176466  0.441052 -0.676426  \n",
      "\n",
      "[506 rows x 13 columns]\n"
     ]
    }
   ],
   "source": [
    "print(\"min-max Scaled Data:\\n\",pd.DataFrame(x_min_max,columns=x.columns))\n",
    "print(\"\\nStandardized Data:\\n\",pd.DataFrame(x_standardized,columns=x.columns))"
   ]
  },
  {
   "cell_type": "code",
   "execution_count": null,
   "id": "ff09908b-9993-4032-a331-017b2471fc9d",
   "metadata": {},
   "outputs": [],
   "source": []
  },
  {
   "cell_type": "code",
   "execution_count": null,
   "id": "c1beb4a3-b2a3-4af0-82f4-17c36abf103e",
   "metadata": {},
   "outputs": [],
   "source": []
  }
 ],
 "metadata": {
  "kernelspec": {
   "display_name": "Python 3 (ipykernel)",
   "language": "python",
   "name": "python3"
  },
  "language_info": {
   "codemirror_mode": {
    "name": "ipython",
    "version": 3
   },
   "file_extension": ".py",
   "mimetype": "text/x-python",
   "name": "python",
   "nbconvert_exporter": "python",
   "pygments_lexer": "ipython3",
   "version": "3.12.4"
  }
 },
 "nbformat": 4,
 "nbformat_minor": 5
}
